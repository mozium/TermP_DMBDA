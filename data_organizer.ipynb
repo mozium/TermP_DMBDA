{
 "cells": [
  {
   "cell_type": "code",
   "execution_count": 15,
   "metadata": {},
   "outputs": [
    {
     "name": "stdout",
     "output_type": "stream",
     "text": [
      "The autotime extension is already loaded. To reload it, use:\n",
      "  %reload_ext autotime\n",
      "time: 9.05 ms\n"
     ]
    }
   ],
   "source": [
    "import numpy as np\n",
    "import pandas as pd\n",
    "\n",
    "import matplotlib.pyplot as plt\n",
    "plt.style.use('tableau-colorblind10')\n",
    "%matplotlib inline\n",
    "%config InlineBackend.figure_format = 'png'\n",
    "\n",
    "from ipypb import irange\n",
    "%load_ext autotime"
   ]
  },
  {
   "cell_type": "code",
   "execution_count": 3,
   "metadata": {},
   "outputs": [
    {
     "data": {
      "text/html": [
       "<div>\n",
       "<style scoped>\n",
       "    .dataframe tbody tr th:only-of-type {\n",
       "        vertical-align: middle;\n",
       "    }\n",
       "\n",
       "    .dataframe tbody tr th {\n",
       "        vertical-align: top;\n",
       "    }\n",
       "\n",
       "    .dataframe thead th {\n",
       "        text-align: right;\n",
       "    }\n",
       "</style>\n",
       "<table border=\"1\" class=\"dataframe\">\n",
       "  <thead>\n",
       "    <tr style=\"text-align: right;\">\n",
       "      <th></th>\n",
       "      <th>Unnamed: 0</th>\n",
       "      <th>公司代號</th>\n",
       "      <th>公司名稱</th>\n",
       "      <th>年份</th>\n",
       "      <th>數量</th>\n",
       "    </tr>\n",
       "  </thead>\n",
       "  <tbody>\n",
       "    <tr>\n",
       "      <th>0</th>\n",
       "      <td>0</td>\n",
       "      <td>1101</td>\n",
       "      <td>台泥</td>\n",
       "      <td>109</td>\n",
       "      <td>56</td>\n",
       "    </tr>\n",
       "    <tr>\n",
       "      <th>1</th>\n",
       "      <td>1</td>\n",
       "      <td>1101</td>\n",
       "      <td>台泥</td>\n",
       "      <td>108</td>\n",
       "      <td>60</td>\n",
       "    </tr>\n",
       "    <tr>\n",
       "      <th>2</th>\n",
       "      <td>2</td>\n",
       "      <td>1101</td>\n",
       "      <td>台泥</td>\n",
       "      <td>107</td>\n",
       "      <td>94</td>\n",
       "    </tr>\n",
       "    <tr>\n",
       "      <th>3</th>\n",
       "      <td>3</td>\n",
       "      <td>1101</td>\n",
       "      <td>台泥</td>\n",
       "      <td>106</td>\n",
       "      <td>94</td>\n",
       "    </tr>\n",
       "    <tr>\n",
       "      <th>4</th>\n",
       "      <td>4</td>\n",
       "      <td>1101</td>\n",
       "      <td>台泥</td>\n",
       "      <td>105</td>\n",
       "      <td>60</td>\n",
       "    </tr>\n",
       "    <tr>\n",
       "      <th>...</th>\n",
       "      <td>...</td>\n",
       "      <td>...</td>\n",
       "      <td>...</td>\n",
       "      <td>...</td>\n",
       "      <td>...</td>\n",
       "    </tr>\n",
       "    <tr>\n",
       "      <th>9465</th>\n",
       "      <td>9465</td>\n",
       "      <td>9958</td>\n",
       "      <td>世紀鋼</td>\n",
       "      <td>104</td>\n",
       "      <td>22</td>\n",
       "    </tr>\n",
       "    <tr>\n",
       "      <th>9466</th>\n",
       "      <td>9466</td>\n",
       "      <td>9958</td>\n",
       "      <td>世紀鋼</td>\n",
       "      <td>103</td>\n",
       "      <td>17</td>\n",
       "    </tr>\n",
       "    <tr>\n",
       "      <th>9467</th>\n",
       "      <td>9467</td>\n",
       "      <td>9958</td>\n",
       "      <td>世紀鋼</td>\n",
       "      <td>102</td>\n",
       "      <td>30</td>\n",
       "    </tr>\n",
       "    <tr>\n",
       "      <th>9468</th>\n",
       "      <td>9468</td>\n",
       "      <td>9958</td>\n",
       "      <td>世紀鋼</td>\n",
       "      <td>101</td>\n",
       "      <td>21</td>\n",
       "    </tr>\n",
       "    <tr>\n",
       "      <th>9469</th>\n",
       "      <td>9469</td>\n",
       "      <td>9958</td>\n",
       "      <td>世紀鋼</td>\n",
       "      <td>100</td>\n",
       "      <td>14</td>\n",
       "    </tr>\n",
       "  </tbody>\n",
       "</table>\n",
       "<p>9470 rows × 5 columns</p>\n",
       "</div>"
      ],
      "text/plain": [
       "      Unnamed: 0  公司代號 公司名稱   年份  數量\n",
       "0              0  1101   台泥  109  56\n",
       "1              1  1101   台泥  108  60\n",
       "2              2  1101   台泥  107  94\n",
       "3              3  1101   台泥  106  94\n",
       "4              4  1101   台泥  105  60\n",
       "...          ...   ...  ...  ...  ..\n",
       "9465        9465  9958  世紀鋼  104  22\n",
       "9466        9466  9958  世紀鋼  103  17\n",
       "9467        9467  9958  世紀鋼  102  30\n",
       "9468        9468  9958  世紀鋼  101  21\n",
       "9469        9469  9958  世紀鋼  100  14\n",
       "\n",
       "[9470 rows x 5 columns]"
      ]
     },
     "execution_count": 3,
     "metadata": {},
     "output_type": "execute_result"
    },
    {
     "name": "stdout",
     "output_type": "stream",
     "text": [
      "time: 36.9 ms\n"
     ]
    }
   ],
   "source": [
    "df = pd.read_csv(\"./databases/info_synop.csv\")\n",
    "df"
   ]
  },
  {
   "cell_type": "code",
   "execution_count": 4,
   "metadata": {},
   "outputs": [
    {
     "name": "stdout",
     "output_type": "stream",
     "text": [
      "time: 27.8 ms\n"
     ]
    }
   ],
   "source": [
    "avg_list = df.groupby(['公司代號', '公司名稱']).mean()['數量'].tolist()\n",
    "sum_list = df.groupby(['公司代號', '公司名稱']).sum()['數量'].tolist()\n",
    "min_list = df.groupby(['公司代號', '公司名稱']).min()['數量'].tolist()\n",
    "max_list = df.groupby(['公司代號', '公司名稱']).max()['數量'].tolist()"
   ]
  },
  {
   "cell_type": "code",
   "execution_count": 5,
   "metadata": {},
   "outputs": [
    {
     "name": "stdout",
     "output_type": "stream",
     "text": [
      "time: 7.54 ms\n"
     ]
    }
   ],
   "source": [
    "info_list = df.groupby(['公司代號', '公司名稱']).mean()['數量'].index.to_list()\n",
    "name_list = []\n",
    "\n",
    "for i in range(len(info_list)):\n",
    "    name = info_list[i][1]\n",
    "    code = info_list[i][0]\n",
    "    name_list.append(str(name)+'('+str(code)+')')"
   ]
  },
  {
   "cell_type": "code",
   "execution_count": 6,
   "metadata": {},
   "outputs": [
    {
     "name": "stdout",
     "output_type": "stream",
     "text": [
      "time: 734 µs\n"
     ]
    }
   ],
   "source": [
    "pack_list = list(zip(name_list, avg_list, sum_list, max_list, min_list))"
   ]
  },
  {
   "cell_type": "code",
   "execution_count": 7,
   "metadata": {},
   "outputs": [
    {
     "data": {
      "text/html": [
       "<div>\n",
       "<style scoped>\n",
       "    .dataframe tbody tr th:only-of-type {\n",
       "        vertical-align: middle;\n",
       "    }\n",
       "\n",
       "    .dataframe tbody tr th {\n",
       "        vertical-align: top;\n",
       "    }\n",
       "\n",
       "    .dataframe thead th {\n",
       "        text-align: right;\n",
       "    }\n",
       "</style>\n",
       "<table border=\"1\" class=\"dataframe\">\n",
       "  <thead>\n",
       "    <tr style=\"text-align: right;\">\n",
       "      <th></th>\n",
       "      <th>名稱</th>\n",
       "      <th>mean</th>\n",
       "      <th>sum</th>\n",
       "      <th>max</th>\n",
       "      <th>min</th>\n",
       "    </tr>\n",
       "  </thead>\n",
       "  <tbody>\n",
       "    <tr>\n",
       "      <th>0</th>\n",
       "      <td>台泥(1101)</td>\n",
       "      <td>67.3</td>\n",
       "      <td>673</td>\n",
       "      <td>94</td>\n",
       "      <td>51</td>\n",
       "    </tr>\n",
       "    <tr>\n",
       "      <th>1</th>\n",
       "      <td>亞泥(1102)</td>\n",
       "      <td>35.7</td>\n",
       "      <td>357</td>\n",
       "      <td>54</td>\n",
       "      <td>27</td>\n",
       "    </tr>\n",
       "    <tr>\n",
       "      <th>2</th>\n",
       "      <td>嘉泥(1103)</td>\n",
       "      <td>44.0</td>\n",
       "      <td>440</td>\n",
       "      <td>56</td>\n",
       "      <td>25</td>\n",
       "    </tr>\n",
       "    <tr>\n",
       "      <th>3</th>\n",
       "      <td>環泥(1104)</td>\n",
       "      <td>20.6</td>\n",
       "      <td>206</td>\n",
       "      <td>36</td>\n",
       "      <td>11</td>\n",
       "    </tr>\n",
       "    <tr>\n",
       "      <th>4</th>\n",
       "      <td>幸福(1108)</td>\n",
       "      <td>24.1</td>\n",
       "      <td>241</td>\n",
       "      <td>37</td>\n",
       "      <td>19</td>\n",
       "    </tr>\n",
       "    <tr>\n",
       "      <th>...</th>\n",
       "      <td>...</td>\n",
       "      <td>...</td>\n",
       "      <td>...</td>\n",
       "      <td>...</td>\n",
       "      <td>...</td>\n",
       "    </tr>\n",
       "    <tr>\n",
       "      <th>942</th>\n",
       "      <td>新麗(9944)</td>\n",
       "      <td>26.8</td>\n",
       "      <td>268</td>\n",
       "      <td>38</td>\n",
       "      <td>20</td>\n",
       "    </tr>\n",
       "    <tr>\n",
       "      <th>943</th>\n",
       "      <td>潤泰新(9945)</td>\n",
       "      <td>42.6</td>\n",
       "      <td>426</td>\n",
       "      <td>50</td>\n",
       "      <td>34</td>\n",
       "    </tr>\n",
       "    <tr>\n",
       "      <th>944</th>\n",
       "      <td>三發地產(9946)</td>\n",
       "      <td>43.0</td>\n",
       "      <td>430</td>\n",
       "      <td>104</td>\n",
       "      <td>21</td>\n",
       "    </tr>\n",
       "    <tr>\n",
       "      <th>945</th>\n",
       "      <td>佳龍(9955)</td>\n",
       "      <td>15.2</td>\n",
       "      <td>152</td>\n",
       "      <td>36</td>\n",
       "      <td>4</td>\n",
       "    </tr>\n",
       "    <tr>\n",
       "      <th>946</th>\n",
       "      <td>世紀鋼(9958)</td>\n",
       "      <td>24.8</td>\n",
       "      <td>248</td>\n",
       "      <td>48</td>\n",
       "      <td>11</td>\n",
       "    </tr>\n",
       "  </tbody>\n",
       "</table>\n",
       "<p>947 rows × 5 columns</p>\n",
       "</div>"
      ],
      "text/plain": [
       "             名稱  mean  sum  max  min\n",
       "0      台泥(1101)  67.3  673   94   51\n",
       "1      亞泥(1102)  35.7  357   54   27\n",
       "2      嘉泥(1103)  44.0  440   56   25\n",
       "3      環泥(1104)  20.6  206   36   11\n",
       "4      幸福(1108)  24.1  241   37   19\n",
       "..          ...   ...  ...  ...  ...\n",
       "942    新麗(9944)  26.8  268   38   20\n",
       "943   潤泰新(9945)  42.6  426   50   34\n",
       "944  三發地產(9946)  43.0  430  104   21\n",
       "945    佳龍(9955)  15.2  152   36    4\n",
       "946   世紀鋼(9958)  24.8  248   48   11\n",
       "\n",
       "[947 rows x 5 columns]"
      ]
     },
     "execution_count": 7,
     "metadata": {},
     "output_type": "execute_result"
    },
    {
     "name": "stdout",
     "output_type": "stream",
     "text": [
      "time: 11.7 ms\n"
     ]
    }
   ],
   "source": [
    "sdf_cols = ['名稱', 'mean', 'sum', 'max', 'min']\n",
    "sdf = pd.DataFrame(data=pack_list, columns=sdf_cols)\n",
    "sdf"
   ]
  },
  {
   "cell_type": "code",
   "execution_count": 115,
   "metadata": {},
   "outputs": [
    {
     "name": "stdout",
     "output_type": "stream",
     "text": [
      "65 310 253 214 105\n",
      "time: 2.08 ms\n"
     ]
    }
   ],
   "source": [
    "l10, l20, l30, l50, g50 = 0, 0, 0, 0, 0\n",
    "\n",
    "for i in range(len(avg_list)):\n",
    "    if avg_list[i] <= 10:\n",
    "        l10 += 1\n",
    "    elif 10 < avg_list[i] <= 20:\n",
    "        l20 += 1\n",
    "    elif 20 < avg_list[i] <= 30:\n",
    "        l30 += 1\n",
    "    elif 30 < avg_list[i] <= 50:\n",
    "        l50 += 1\n",
    "    else:\n",
    "        g50 += 1\n",
    "\n",
    "print(l10, l20, l30, l50, g50)"
   ]
  },
  {
   "cell_type": "code",
   "execution_count": 124,
   "metadata": {},
   "outputs": [
    {
     "data": {
      "text/plain": [
       "(145, 15.31)"
      ]
     },
     "execution_count": 124,
     "metadata": {},
     "output_type": "execute_result"
    },
    {
     "name": "stdout",
     "output_type": "stream",
     "text": [
      "time: 4.96 ms\n"
     ]
    }
   ],
   "source": [
    "# Total amount of companies with at least one '0' entry\n",
    "len(set(df[df['數量']==0]['公司名稱'].tolist())), round(len(set(df[df['數量']==0]['公司名稱'].tolist()))/(len(df)/10)*100, 2)"
   ]
  },
  {
   "cell_type": "code",
   "execution_count": 131,
   "metadata": {},
   "outputs": [
    {
     "data": {
      "text/plain": [
       "436"
      ]
     },
     "execution_count": 131,
     "metadata": {},
     "output_type": "execute_result"
    },
    {
     "name": "stdout",
     "output_type": "stream",
     "text": [
      "time: 1.71 ms\n"
     ]
    }
   ],
   "source": [
    "# Types of value for the sum\n",
    "len(set(sum_list))"
   ]
  },
  {
   "cell_type": "code",
   "execution_count": 17,
   "metadata": {},
   "outputs": [
    {
     "data": {
      "text/plain": [
       "<matplotlib.lines.Line2D at 0x7febb86c2850>"
      ]
     },
     "execution_count": 17,
     "metadata": {},
     "output_type": "execute_result"
    },
    {
     "data": {
      "image/png": "[encoded data removed]",
      "text/plain": [
       "<Figure size 1800x1200 with 1 Axes>"
      ]
     },
     "metadata": {
      "needs_background": "light"
     },
     "output_type": "display_data"
    },
    {
     "name": "stdout",
     "output_type": "stream",
     "text": [
      "time: 1.23 s\n"
     ]
    }
   ],
   "source": [
    "stat_list = sum_list.copy()\n",
    "stat_list.sort()\n",
    "stat_list\n",
    "\n",
    "# calculation of total posts\n",
    "sum_tracker = 0\n",
    "for i in stat_list:\n",
    "    sum_tracker += i\n",
    "    \n",
    "sum_mean = sum_tracker/len(stat_list)\n",
    "above_tracker = 0\n",
    "for i in range(len(stat_list)):\n",
    "    if stat_list[i] > sum_mean:\n",
    "        above_tracker += 1\n",
    "\n",
    "bar_pos = np.arange(len(stat_list))\n",
    "plt.figure(dpi=300)\n",
    "plt.bar(bar_pos, stat_list)\n",
    "plt.axhline(y=sum_mean,linewidth=1, color='red')"
   ]
  },
  {
   "cell_type": "code",
   "execution_count": 160,
   "metadata": {},
   "outputs": [
    {
     "data": {
      "text/plain": [
       "'32.95%'"
      ]
     },
     "execution_count": 160,
     "metadata": {},
     "output_type": "execute_result"
    },
    {
     "name": "stdout",
     "output_type": "stream",
     "text": [
      "time: 1.81 ms\n"
     ]
    }
   ],
   "source": [
    "str(round(above_tracker/len(stat_list)*100, 2))+'%'"
   ]
  },
  {
   "cell_type": "code",
   "execution_count": 169,
   "metadata": {},
   "outputs": [
    {
     "name": "stdout",
     "output_type": "stream",
     "text": [
      "time: 26.8 ms\n"
     ]
    }
   ],
   "source": [
    "chatty_list = []\n",
    "for i in range(len(sdf)):\n",
    "    if sdf['sum'][i] > sum_mean:\n",
    "        chatty_list.append(sdf['名稱'][i])"
   ]
  },
  {
   "cell_type": "code",
   "execution_count": 8,
   "metadata": {},
   "outputs": [
    {
     "data": {
      "text/plain": [
       "288310"
      ]
     },
     "execution_count": 8,
     "metadata": {},
     "output_type": "execute_result"
    },
    {
     "name": "stdout",
     "output_type": "stream",
     "text": [
      "time: 2.04 ms\n"
     ]
    }
   ],
   "source": [
    "df['數量'].sum()"
   ]
  },
  {
   "cell_type": "code",
   "execution_count": null,
   "metadata": {},
   "outputs": [],
   "source": []
  }
 ],
 "metadata": {
  "kernelspec": {
   "display_name": "Python 3",
   "language": "python",
   "name": "python3"
  },
  "language_info": {
   "codemirror_mode": {
    "name": "ipython",
    "version": 3
   },
   "file_extension": ".py",
   "mimetype": "text/x-python",
   "name": "python",
   "nbconvert_exporter": "python",
   "pygments_lexer": "ipython3",
   "version": "3.8.3"
  }
 },
 "nbformat": 4,
 "nbformat_minor": 4
}
