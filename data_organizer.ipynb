{
 "cells": [
  {
   "cell_type": "code",
   "execution_count": 135,
   "metadata": {},
   "outputs": [
    {
     "name": "stdout",
     "output_type": "stream",
     "text": [
      "The autotime extension is already loaded. To reload it, use:\n",
      "  %reload_ext autotime\n",
      "time: 1.17 ms\n"
     ]
    }
   ],
   "source": [
    "import numpy as np\n",
    "import pandas as pd\n",
    "import matplotlib.pyplot as plt\n",
    "\n",
    "from ipypb import irange\n",
    "%load_ext autotime"
   ]
  },
  {
   "cell_type": "code",
   "execution_count": 106,
   "metadata": {},
   "outputs": [
    {
     "data": {
      "text/html": [
       "<div>\n",
       "<style scoped>\n",
       "    .dataframe tbody tr th:only-of-type {\n",
       "        vertical-align: middle;\n",
       "    }\n",
       "\n",
       "    .dataframe tbody tr th {\n",
       "        vertical-align: top;\n",
       "    }\n",
       "\n",
       "    .dataframe thead th {\n",
       "        text-align: right;\n",
       "    }\n",
       "</style>\n",
       "<table border=\"1\" class=\"dataframe\">\n",
       "  <thead>\n",
       "    <tr style=\"text-align: right;\">\n",
       "      <th></th>\n",
       "      <th>Unnamed: 0</th>\n",
       "      <th>公司代號</th>\n",
       "      <th>公司名稱</th>\n",
       "      <th>年份</th>\n",
       "      <th>數量</th>\n",
       "    </tr>\n",
       "  </thead>\n",
       "  <tbody>\n",
       "    <tr>\n",
       "      <th>0</th>\n",
       "      <td>0</td>\n",
       "      <td>1101</td>\n",
       "      <td>台泥</td>\n",
       "      <td>109</td>\n",
       "      <td>56</td>\n",
       "    </tr>\n",
       "    <tr>\n",
       "      <th>1</th>\n",
       "      <td>1</td>\n",
       "      <td>1101</td>\n",
       "      <td>台泥</td>\n",
       "      <td>108</td>\n",
       "      <td>60</td>\n",
       "    </tr>\n",
       "    <tr>\n",
       "      <th>2</th>\n",
       "      <td>2</td>\n",
       "      <td>1101</td>\n",
       "      <td>台泥</td>\n",
       "      <td>107</td>\n",
       "      <td>94</td>\n",
       "    </tr>\n",
       "    <tr>\n",
       "      <th>3</th>\n",
       "      <td>3</td>\n",
       "      <td>1101</td>\n",
       "      <td>台泥</td>\n",
       "      <td>106</td>\n",
       "      <td>94</td>\n",
       "    </tr>\n",
       "    <tr>\n",
       "      <th>4</th>\n",
       "      <td>4</td>\n",
       "      <td>1101</td>\n",
       "      <td>台泥</td>\n",
       "      <td>105</td>\n",
       "      <td>60</td>\n",
       "    </tr>\n",
       "    <tr>\n",
       "      <th>...</th>\n",
       "      <td>...</td>\n",
       "      <td>...</td>\n",
       "      <td>...</td>\n",
       "      <td>...</td>\n",
       "      <td>...</td>\n",
       "    </tr>\n",
       "    <tr>\n",
       "      <th>9465</th>\n",
       "      <td>9465</td>\n",
       "      <td>9958</td>\n",
       "      <td>世紀鋼</td>\n",
       "      <td>104</td>\n",
       "      <td>22</td>\n",
       "    </tr>\n",
       "    <tr>\n",
       "      <th>9466</th>\n",
       "      <td>9466</td>\n",
       "      <td>9958</td>\n",
       "      <td>世紀鋼</td>\n",
       "      <td>103</td>\n",
       "      <td>17</td>\n",
       "    </tr>\n",
       "    <tr>\n",
       "      <th>9467</th>\n",
       "      <td>9467</td>\n",
       "      <td>9958</td>\n",
       "      <td>世紀鋼</td>\n",
       "      <td>102</td>\n",
       "      <td>30</td>\n",
       "    </tr>\n",
       "    <tr>\n",
       "      <th>9468</th>\n",
       "      <td>9468</td>\n",
       "      <td>9958</td>\n",
       "      <td>世紀鋼</td>\n",
       "      <td>101</td>\n",
       "      <td>21</td>\n",
       "    </tr>\n",
       "    <tr>\n",
       "      <th>9469</th>\n",
       "      <td>9469</td>\n",
       "      <td>9958</td>\n",
       "      <td>世紀鋼</td>\n",
       "      <td>100</td>\n",
       "      <td>14</td>\n",
       "    </tr>\n",
       "  </tbody>\n",
       "</table>\n",
       "<p>9470 rows × 5 columns</p>\n",
       "</div>"
      ],
      "text/plain": [
       "      Unnamed: 0  公司代號 公司名稱   年份  數量\n",
       "0              0  1101   台泥  109  56\n",
       "1              1  1101   台泥  108  60\n",
       "2              2  1101   台泥  107  94\n",
       "3              3  1101   台泥  106  94\n",
       "4              4  1101   台泥  105  60\n",
       "...          ...   ...  ...  ...  ..\n",
       "9465        9465  9958  世紀鋼  104  22\n",
       "9466        9466  9958  世紀鋼  103  17\n",
       "9467        9467  9958  世紀鋼  102  30\n",
       "9468        9468  9958  世紀鋼  101  21\n",
       "9469        9469  9958  世紀鋼  100  14\n",
       "\n",
       "[9470 rows x 5 columns]"
      ]
     },
     "execution_count": 106,
     "metadata": {},
     "output_type": "execute_result"
    },
    {
     "name": "stdout",
     "output_type": "stream",
     "text": [
      "time: 77.7 ms\n"
     ]
    }
   ],
   "source": [
    "df = pd.read_csv(\"./dbs/000_.csv\")\n",
    "df"
   ]
  },
  {
   "cell_type": "code",
   "execution_count": 126,
   "metadata": {},
   "outputs": [
    {
     "name": "stdout",
     "output_type": "stream",
     "text": [
      "time: 18.5 ms\n"
     ]
    }
   ],
   "source": [
    "avg_list = df.groupby(['公司代號', '公司名稱']).mean()['數量'].tolist()\n",
    "sum_list = df.groupby(['公司代號', '公司名稱']).sum()['數量'].tolist()\n",
    "min_list = df.groupby(['公司代號', '公司名稱']).min()['數量'].tolist()\n",
    "max_list = df.groupby(['公司代號', '公司名稱']).max()['數量'].tolist()"
   ]
  },
  {
   "cell_type": "code",
   "execution_count": 127,
   "metadata": {},
   "outputs": [
    {
     "name": "stdout",
     "output_type": "stream",
     "text": [
      "time: 7.36 ms\n"
     ]
    }
   ],
   "source": [
    "info_list = df.groupby(['公司代號', '公司名稱']).mean()['數量'].index.to_list()\n",
    "name_list = []\n",
    "\n",
    "for i in range(len(info_list)):\n",
    "    name = info_list[i][1]\n",
    "    code = info_list[i][0]\n",
    "    name_list.append(str(name)+'('+str(code)+')')"
   ]
  },
  {
   "cell_type": "code",
   "execution_count": 128,
   "metadata": {},
   "outputs": [
    {
     "name": "stdout",
     "output_type": "stream",
     "text": [
      "time: 878 µs\n"
     ]
    }
   ],
   "source": [
    "pack_list = list(zip(name_list, avg_list, sum_list, max_list, min_list))"
   ]
  },
  {
   "cell_type": "code",
   "execution_count": 129,
   "metadata": {},
   "outputs": [
    {
     "data": {
      "text/html": [
       "<div>\n",
       "<style scoped>\n",
       "    .dataframe tbody tr th:only-of-type {\n",
       "        vertical-align: middle;\n",
       "    }\n",
       "\n",
       "    .dataframe tbody tr th {\n",
       "        vertical-align: top;\n",
       "    }\n",
       "\n",
       "    .dataframe thead th {\n",
       "        text-align: right;\n",
       "    }\n",
       "</style>\n",
       "<table border=\"1\" class=\"dataframe\">\n",
       "  <thead>\n",
       "    <tr style=\"text-align: right;\">\n",
       "      <th></th>\n",
       "      <th>名稱</th>\n",
       "      <th>mean</th>\n",
       "      <th>sum</th>\n",
       "      <th>max</th>\n",
       "      <th>min</th>\n",
       "    </tr>\n",
       "  </thead>\n",
       "  <tbody>\n",
       "    <tr>\n",
       "      <th>0</th>\n",
       "      <td>台泥(1101)</td>\n",
       "      <td>67.3</td>\n",
       "      <td>673</td>\n",
       "      <td>94</td>\n",
       "      <td>51</td>\n",
       "    </tr>\n",
       "    <tr>\n",
       "      <th>1</th>\n",
       "      <td>亞泥(1102)</td>\n",
       "      <td>35.7</td>\n",
       "      <td>357</td>\n",
       "      <td>54</td>\n",
       "      <td>27</td>\n",
       "    </tr>\n",
       "    <tr>\n",
       "      <th>2</th>\n",
       "      <td>嘉泥(1103)</td>\n",
       "      <td>44.0</td>\n",
       "      <td>440</td>\n",
       "      <td>56</td>\n",
       "      <td>25</td>\n",
       "    </tr>\n",
       "    <tr>\n",
       "      <th>3</th>\n",
       "      <td>環泥(1104)</td>\n",
       "      <td>20.6</td>\n",
       "      <td>206</td>\n",
       "      <td>36</td>\n",
       "      <td>11</td>\n",
       "    </tr>\n",
       "    <tr>\n",
       "      <th>4</th>\n",
       "      <td>幸福(1108)</td>\n",
       "      <td>24.1</td>\n",
       "      <td>241</td>\n",
       "      <td>37</td>\n",
       "      <td>19</td>\n",
       "    </tr>\n",
       "    <tr>\n",
       "      <th>...</th>\n",
       "      <td>...</td>\n",
       "      <td>...</td>\n",
       "      <td>...</td>\n",
       "      <td>...</td>\n",
       "      <td>...</td>\n",
       "    </tr>\n",
       "    <tr>\n",
       "      <th>942</th>\n",
       "      <td>新麗(9944)</td>\n",
       "      <td>26.8</td>\n",
       "      <td>268</td>\n",
       "      <td>38</td>\n",
       "      <td>20</td>\n",
       "    </tr>\n",
       "    <tr>\n",
       "      <th>943</th>\n",
       "      <td>潤泰新(9945)</td>\n",
       "      <td>42.6</td>\n",
       "      <td>426</td>\n",
       "      <td>50</td>\n",
       "      <td>34</td>\n",
       "    </tr>\n",
       "    <tr>\n",
       "      <th>944</th>\n",
       "      <td>三發地產(9946)</td>\n",
       "      <td>43.0</td>\n",
       "      <td>430</td>\n",
       "      <td>104</td>\n",
       "      <td>21</td>\n",
       "    </tr>\n",
       "    <tr>\n",
       "      <th>945</th>\n",
       "      <td>佳龍(9955)</td>\n",
       "      <td>15.2</td>\n",
       "      <td>152</td>\n",
       "      <td>36</td>\n",
       "      <td>4</td>\n",
       "    </tr>\n",
       "    <tr>\n",
       "      <th>946</th>\n",
       "      <td>世紀鋼(9958)</td>\n",
       "      <td>24.8</td>\n",
       "      <td>248</td>\n",
       "      <td>48</td>\n",
       "      <td>11</td>\n",
       "    </tr>\n",
       "  </tbody>\n",
       "</table>\n",
       "<p>947 rows × 5 columns</p>\n",
       "</div>"
      ],
      "text/plain": [
       "             名稱  mean  sum  max  min\n",
       "0      台泥(1101)  67.3  673   94   51\n",
       "1      亞泥(1102)  35.7  357   54   27\n",
       "2      嘉泥(1103)  44.0  440   56   25\n",
       "3      環泥(1104)  20.6  206   36   11\n",
       "4      幸福(1108)  24.1  241   37   19\n",
       "..          ...   ...  ...  ...  ...\n",
       "942    新麗(9944)  26.8  268   38   20\n",
       "943   潤泰新(9945)  42.6  426   50   34\n",
       "944  三發地產(9946)  43.0  430  104   21\n",
       "945    佳龍(9955)  15.2  152   36    4\n",
       "946   世紀鋼(9958)  24.8  248   48   11\n",
       "\n",
       "[947 rows x 5 columns]"
      ]
     },
     "execution_count": 129,
     "metadata": {},
     "output_type": "execute_result"
    },
    {
     "name": "stdout",
     "output_type": "stream",
     "text": [
      "time: 10.6 ms\n"
     ]
    }
   ],
   "source": [
    "sdf_cols = ['名稱', 'mean', 'sum', 'max', 'min']\n",
    "sdf = pd.DataFrame(data=pack_list, columns=sdf_cols)\n",
    "sdf"
   ]
  },
  {
   "cell_type": "code",
   "execution_count": 115,
   "metadata": {},
   "outputs": [
    {
     "name": "stdout",
     "output_type": "stream",
     "text": [
      "65 310 253 214 105\n",
      "time: 2.08 ms\n"
     ]
    }
   ],
   "source": [
    "l10, l20, l30, l50, g50 = 0, 0, 0, 0, 0\n",
    "\n",
    "for i in range(len(avg_list)):\n",
    "    if avg_list[i] <= 10:\n",
    "        l10 += 1\n",
    "    elif 10 < avg_list[i] <= 20:\n",
    "        l20 += 1\n",
    "    elif 20 < avg_list[i] <= 30:\n",
    "        l30 += 1\n",
    "    elif 30 < avg_list[i] <= 50:\n",
    "        l50 += 1\n",
    "    else:\n",
    "        g50 += 1\n",
    "\n",
    "print(l10, l20, l30, l50, g50)"
   ]
  },
  {
   "cell_type": "code",
   "execution_count": 124,
   "metadata": {},
   "outputs": [
    {
     "data": {
      "text/plain": [
       "(145, 15.31)"
      ]
     },
     "execution_count": 124,
     "metadata": {},
     "output_type": "execute_result"
    },
    {
     "name": "stdout",
     "output_type": "stream",
     "text": [
      "time: 4.96 ms\n"
     ]
    }
   ],
   "source": [
    "# Total amount of companies with at least one '0' entry\n",
    "len(set(df[df['數量']==0]['公司名稱'].tolist())), round(len(set(df[df['數量']==0]['公司名稱'].tolist()))/(len(df)/10)*100, 2)"
   ]
  },
  {
   "cell_type": "code",
   "execution_count": 131,
   "metadata": {},
   "outputs": [
    {
     "data": {
      "text/plain": [
       "436"
      ]
     },
     "execution_count": 131,
     "metadata": {},
     "output_type": "execute_result"
    },
    {
     "name": "stdout",
     "output_type": "stream",
     "text": [
      "time: 1.71 ms\n"
     ]
    }
   ],
   "source": [
    "# Types of value for the sum\n",
    "len(set(sum_list))"
   ]
  },
  {
   "cell_type": "code",
   "execution_count": 153,
   "metadata": {},
   "outputs": [
    {
     "data": {
      "text/plain": [
       "<matplotlib.lines.Line2D at 0x7f8a509638e0>"
      ]
     },
     "execution_count": 153,
     "metadata": {},
     "output_type": "execute_result"
    },
    {
     "data": {
      "image/png": "[encoded data removed]",
      "text/plain": [
       "<Figure size 432x288 with 1 Axes>"
      ]
     },
     "metadata": {
      "needs_background": "light"
     },
     "output_type": "display_data"
    },
    {
     "name": "stdout",
     "output_type": "stream",
     "text": [
      "time: 1.24 s\n"
     ]
    }
   ],
   "source": [
    "stat_list = sum_list.copy()\n",
    "stat_list.sort()\n",
    "stat_list\n",
    "\n",
    "# calculation of total posts\n",
    "sum_tracker = 0\n",
    "for i in stat_list:\n",
    "    sum_tracker += i\n",
    "    \n",
    "sum_mean = sum_tracker/len(stat_list)\n",
    "above_tracker = 0\n",
    "for i in range(len(stat_list)):\n",
    "    if stat_list[i] > sum_mean:\n",
    "        above_tracker += 1\n",
    "\n",
    "bar_pos = np.arange(len(stat_list))\n",
    "plt.bar(bar_pos, stat_list)\n",
    "plt.axhline(y=sum_mean,linewidth=1, color='red')"
   ]
  },
  {
   "cell_type": "code",
   "execution_count": 160,
   "metadata": {},
   "outputs": [
    {
     "data": {
      "text/plain": [
       "'32.95%'"
      ]
     },
     "execution_count": 160,
     "metadata": {},
     "output_type": "execute_result"
    },
    {
     "name": "stdout",
     "output_type": "stream",
     "text": [
      "time: 1.81 ms\n"
     ]
    }
   ],
   "source": [
    "str(round(above_tracker/len(stat_list)*100, 2))+'%'"
   ]
  },
  {
   "cell_type": "code",
   "execution_count": 169,
   "metadata": {},
   "outputs": [
    {
     "name": "stdout",
     "output_type": "stream",
     "text": [
      "time: 26.8 ms\n"
     ]
    }
   ],
   "source": [
    "chatty_list = []\n",
    "for i in range(len(sdf)):\n",
    "    if sdf['sum'][i] > sum_mean:\n",
    "        chatty_list.append(sdf['名稱'][i])"
   ]
  },
  {
   "cell_type": "code",
   "execution_count": 170,
   "metadata": {},
   "outputs": [
    {
     "data": {
      "text/plain": [
       "['台泥(1101)',\n",
       " '亞泥(1102)',\n",
       " '嘉泥(1103)',\n",
       " '味全(1201)',\n",
       " '大飲(1213)',\n",
       " '統一(1216)',\n",
       " '福懋油(1225)',\n",
       " '台塑(1301)',\n",
       " '南亞(1303)',\n",
       " '中石化(1314)',\n",
       " '上曜(1316)',\n",
       " '台化(1326)',\n",
       " '再生-KY(1337)',\n",
       " '昭輝(1339)',\n",
       " '遠東新(1402)',\n",
       " '大魯閣(1432)',\n",
       " '華友聯(1436)',\n",
       " '勤益控(1437)',\n",
       " '佳和(1449)',\n",
       " '怡華(1456)',\n",
       " '宏遠(1460)',\n",
       " '得力(1464)',\n",
       " '三洋紡(1472)',\n",
       " '儒鴻(1476)',\n",
       " '聚陽(1477)',\n",
       " '東元(1504)',\n",
       " '正道(1506)',\n",
       " '川飛(1516)',\n",
       " '樂士(1529)',\n",
       " '高林股(1531)',\n",
       " '勤美(1532)',\n",
       " '和大(1536)',\n",
       " '信錦(1582)',\n",
       " '永冠-KY(1589)',\n",
       " '亞德客-KY(1590)',\n",
       " '英瑞-KY(1592)',\n",
       " '華新(1605)',\n",
       " '億泰(1616)',\n",
       " '艾美特-KY(1626)',\n",
       " '南僑(1702)',\n",
       " '和桐(1714)',\n",
       " '長興(1717)',\n",
       " '寶齡富錦(1760)',\n",
       " '神隆(1789)',\n",
       " '美時(1795)',\n",
       " '台玻(1802)',\n",
       " '正隆(1904)',\n",
       " '永豐餘(1907)',\n",
       " '榮成(1909)',\n",
       " '中鋼(2002)',\n",
       " '中鋼構(2013)',\n",
       " '千興(2025)',\n",
       " '大成鋼(2027)',\n",
       " '上銀(2049)',\n",
       " '橋椿(2062)',\n",
       " '南港(2101)',\n",
       " '台橡(2103)',\n",
       " '正新(2105)',\n",
       " '建大(2106)',\n",
       " '華豐(2109)',\n",
       " '六暉-KY(2115)',\n",
       " '裕隆(2201)',\n",
       " '三陽工業(2206)',\n",
       " '和泰車(2207)',\n",
       " '為升(2231)',\n",
       " '宇隆(2233)',\n",
       " '英利-KY(2239)',\n",
       " '光寶科(2301)',\n",
       " '聯電(2303)',\n",
       " '台達電(2308)',\n",
       " '金寶(2312)',\n",
       " '華通(2313)',\n",
       " '鴻海(2317)',\n",
       " '中環(2323)',\n",
       " '仁寶(2324)',\n",
       " '國巨(2327)',\n",
       " '台積電(2330)',\n",
       " '友訊(2332)',\n",
       " '旺宏(2337)',\n",
       " '茂矽(2342)',\n",
       " '聯強(2347)',\n",
       " '海悅(2348)',\n",
       " '佳世達(2352)',\n",
       " '宏��(2353)',\n",
       " '鴻準(2354)',\n",
       " '英業達(2356)',\n",
       " '華碩(2357)',\n",
       " '廷鑫(2358)',\n",
       " '致茂(2360)',\n",
       " '藍天(2362)',\n",
       " '金像電(2368)',\n",
       " '大同(2371)',\n",
       " '震旦行(2373)',\n",
       " '瑞昱(2379)',\n",
       " '虹光(2380)',\n",
       " '廣達(2382)',\n",
       " '群光(2385)',\n",
       " '威盛(2388)',\n",
       " '正崴(2392)',\n",
       " '億光(2393)',\n",
       " '研華(2395)',\n",
       " '毅嘉(2402)',\n",
       " '浩鑫(2405)',\n",
       " '南亞科(2408)',\n",
       " '友達(2409)',\n",
       " '中華電(2412)',\n",
       " '興勤(2428)',\n",
       " '翔耀(2438)',\n",
       " '美律(2439)',\n",
       " '新美齊(2442)',\n",
       " '晶電(2448)',\n",
       " '京元電子(2449)',\n",
       " '聯發科(2454)',\n",
       " '奇力新(2456)',\n",
       " '光群雷(2461)',\n",
       " '可成(2474)',\n",
       " '鉅祥(2476)',\n",
       " '強茂(2481)',\n",
       " '吉祥全(2491)',\n",
       " '華新科(2492)',\n",
       " '卓越(2496)',\n",
       " '宏達電(2498)',\n",
       " '東貝(2499)',\n",
       " '國產(2504)',\n",
       " '太設(2506)',\n",
       " '龍邦(2514)',\n",
       " '中工(2515)',\n",
       " '愛山林(2540)',\n",
       " '興富發(2542)',\n",
       " '日勝生(2547)',\n",
       " '華固(2548)',\n",
       " '益航(2601)',\n",
       " '長榮(2603)',\n",
       " '裕民(2606)',\n",
       " '陽明(2609)',\n",
       " '華航(2610)',\n",
       " '東森(2614)',\n",
       " '萬海(2615)',\n",
       " '長榮航(2618)',\n",
       " '台灣高鐵(2633)',\n",
       " '台驊投控(2636)',\n",
       " '慧洋-KY(2637)',\n",
       " '美食-KY(2723)',\n",
       " '彰銀(2801)',\n",
       " '京城銀(2809)',\n",
       " '台中銀(2812)',\n",
       " '中壽(2823)',\n",
       " '臺企銀(2834)',\n",
       " '高雄銀(2836)',\n",
       " '台開(2841)',\n",
       " '統一證(2855)',\n",
       " '三商壽(2867)',\n",
       " '華南金(2880)',\n",
       " '富邦金(2881)',\n",
       " '國泰金(2882)',\n",
       " '開發金(2883)',\n",
       " '玉山金(2884)',\n",
       " '元大金(2885)',\n",
       " '兆豐金(2886)',\n",
       " '台新金(2887)',\n",
       " '新光金(2888)',\n",
       " '國票金(2889)',\n",
       " '永豐金(2890)',\n",
       " '中信金(2891)',\n",
       " '第一金(2892)',\n",
       " '王道銀行(2897)',\n",
       " '遠百(2903)',\n",
       " '三商(2905)',\n",
       " '特力(2908)',\n",
       " '統一超(2912)',\n",
       " '健和興(3003)',\n",
       " '神基(3005)',\n",
       " '同開(3018)',\n",
       " '威強電(3022)',\n",
       " '憶聲(3024)',\n",
       " '偉訓(3032)',\n",
       " '文曄(3036)',\n",
       " '欣興(3037)',\n",
       " '晶技(3042)',\n",
       " '科風(3043)',\n",
       " '健鼎(3044)',\n",
       " '台灣大(3045)',\n",
       " '和鑫(3049)',\n",
       " '蔚華科(3055)',\n",
       " '總太(3056)',\n",
       " '立德(3058)',\n",
       " '日電貿(3090)',\n",
       " '正達(3149)',\n",
       " '緯創(3231)',\n",
       " '昇陽(3266)',\n",
       " '閎暉(3311)',\n",
       " '泰碩(3338)',\n",
       " '麗清(3346)',\n",
       " '明泰(3380)',\n",
       " '新世紀(3383)',\n",
       " '玉晶光(3406)',\n",
       " '京鼎(3413)',\n",
       " '群創(3481)',\n",
       " '誠研(3494)',\n",
       " '揚明光(3504)',\n",
       " '柏騰(3518)',\n",
       " '誠創(3536)',\n",
       " '州巧(3543)',\n",
       " '敦泰(3545)',\n",
       " '力銘(3593)',\n",
       " '智易(3596)',\n",
       " '宏致(3605)',\n",
       " '洋華(3622)',\n",
       " '貿聯-KY(3665)',\n",
       " 'TPK-KY(3673)',\n",
       " '新至陞(3679)',\n",
       " '達能(3686)',\n",
       " '隆達(3698)',\n",
       " '大眾控(3701)',\n",
       " '大聯大(3702)',\n",
       " '欣陸(3703)',\n",
       " '合勤控(3704)',\n",
       " '永信(3705)',\n",
       " '神達(3706)',\n",
       " '上緯投控(3708)',\n",
       " '日月光投控(3711)',\n",
       " '麗豐-KY(4137)',\n",
       " '龍燈-KY(4141)',\n",
       " '訊映(4155)',\n",
       " '承業醫(4164)',\n",
       " '炎洲(4306)',\n",
       " '如興(4414)',\n",
       " '瑞智(4532)',\n",
       " '拓凱(4536)',\n",
       " '康普(4739)',\n",
       " '遠傳(4904)',\n",
       " '正文(4906)',\n",
       " '聯德控股-KY(4912)',\n",
       " '致伸(4915)',\n",
       " '泰鼎-KY(4927)',\n",
       " '燦星網(4930)',\n",
       " '太極(4934)',\n",
       " '茂林-KY(4935)',\n",
       " '和碩(4938)',\n",
       " '嘉彰(4942)',\n",
       " '康控-KY(4943)',\n",
       " '臻鼎-KY(4958)',\n",
       " '眾達-KY(4977)',\n",
       " '科嘉-KY(5215)',\n",
       " '東科-KY(5225)',\n",
       " '鎧勝-KY(5264)',\n",
       " '瀚宇博(5469)',\n",
       " '慧友(5484)',\n",
       " '遠雄(5522)',\n",
       " '鄉林(5531)',\n",
       " '長虹(5534)',\n",
       " '四維航(5608)',\n",
       " '中租-KY(5871)',\n",
       " '合庫金(5880)',\n",
       " '大洋-KY(5907)',\n",
       " '群益證(6005)',\n",
       " '群益期(6024)',\n",
       " '鎰勝(6115)',\n",
       " '彩晶(6116)',\n",
       " '達運(6120)',\n",
       " '亞翔(6139)',\n",
       " '柏承(6141)',\n",
       " '捷泰(6165)',\n",
       " '瑞儀(6176)',\n",
       " '大豐電(6184)',\n",
       " '精成科(6191)',\n",
       " '聯茂(6213)',\n",
       " '天瀚(6225)',\n",
       " '華孚(6235)',\n",
       " '力成(6239)',\n",
       " '台郡(6269)',\n",
       " '同欣電(6271)',\n",
       " '宏正(6277)',\n",
       " '台表科(6278)',\n",
       " '康舒(6282)',\n",
       " '淳安(6283)',\n",
       " '旭隼(6409)',\n",
       " '群電(6412)',\n",
       " '樺漢(6414)',\n",
       " '康友-KY(6452)',\n",
       " '台數科(6464)',\n",
       " '南六(6504)',\n",
       " '台塑化(6505)',\n",
       " '台通(8011)',\n",
       " '矽創(8016)',\n",
       " '雷虎(8033)',\n",
       " '台虹(8039)',\n",
       " '長華*(8070)',\n",
       " '華冠(8101)',\n",
       " '凌巨(8105)',\n",
       " '至上(8112)',\n",
       " '振樺電(8114)',\n",
       " '南茂(8150)',\n",
       " '達方(8163)',\n",
       " '百和興業-KY(8404)',\n",
       " '福貞-KY(8411)',\n",
       " '可寧衛(8422)',\n",
       " '基勝-KY(8427)',\n",
       " '富邦媒(8454)',\n",
       " '寶成(9904)',\n",
       " '欣巴巴(9906)',\n",
       " '豐泰(9910)',\n",
       " '巨大(9921)',\n",
       " '中聯資源(9930)',\n",
       " '中鼎(9933)',\n",
       " '成霖(9934)',\n",
       " '慶豐富(9935)',\n",
       " '百和(9938)',\n",
       " '宏全(9939)',\n",
       " '裕融(9941)',\n",
       " '潤泰新(9945)',\n",
       " '三發地產(9946)']"
      ]
     },
     "execution_count": 170,
     "metadata": {},
     "output_type": "execute_result"
    },
    {
     "name": "stdout",
     "output_type": "stream",
     "text": [
      "time: 4.91 ms\n"
     ]
    }
   ],
   "source": [
    "chatty_list"
   ]
  },
  {
   "cell_type": "code",
   "execution_count": null,
   "metadata": {},
   "outputs": [],
   "source": []
  }
 ],
 "metadata": {
  "kernelspec": {
   "display_name": "Python 3",
   "language": "python",
   "name": "python3"
  },
  "language_info": {
   "codemirror_mode": {
    "name": "ipython",
    "version": 3
   },
   "file_extension": ".py",
   "mimetype": "text/x-python",
   "name": "python",
   "nbconvert_exporter": "python",
   "pygments_lexer": "ipython3",
   "version": "3.8.3"
  }
 },
 "nbformat": 4,
 "nbformat_minor": 4
}
