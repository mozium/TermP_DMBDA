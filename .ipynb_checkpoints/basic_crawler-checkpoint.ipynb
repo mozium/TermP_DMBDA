{
 "cells": [
  {
   "cell_type": "code",
   "execution_count": 1,
   "metadata": {},
   "outputs": [],
   "source": [
    "import requests\n",
    "from bs4 import BeautifulSoup as bs\n",
    "import pandas as pd"
   ]
  },
  {
   "cell_type": "code",
   "execution_count": 88,
   "metadata": {},
   "outputs": [],
   "source": [
    "def raw(url, rg):\n",
    "    name_0 = rg[0]\n",
    "    name_1 = rg[1]\n",
    "    \n",
    "    # copied code from https://bit.ly/34GqVs1\n",
    "    page = requests.get(url)\n",
    "    page.encoding = 'big5'\n",
    "    soup = bs(page.text, 'lxml')\n",
    "    tb = soup.select('table')[1]\n",
    "    tdf = pd.read_html(tb.prettify('utf-8'), encoding= 'utf-8')\n",
    "    \n",
    "    # defining cells data type\n",
    "    df = tdf[0].astype(str)\n",
    "    \n",
    "    # fetching indices for desired data range\n",
    "    first_index = df[df[0]==name_0].index[0]\n",
    "    last_index = df[df[0]==name_1].index[0]\n",
    "    \n",
    "    return df[first_index: last_index+1:]\n",
    "\n",
    "def edit(df):\n",
    "    df.drop(6, axis=1, inplace=True)\n",
    "    df.rename(columns={0: HD[0], 1: HD[2], 2: HD[3]}, inplace=True)\n",
    "    df.rename(columns={3: HD[4], 4: HD[5], 5: HD[6]}, inplace=True)\n",
    "    \n",
    "    # duplicating and rearranging\n",
    "    df[HD[1]]=df[HD[0]]\n",
    "    df = df[NHD]\n",
    "    \n",
    "    # editing stock code and name\n",
    "    df[NHD[0]] = df[NHD[0]].str[:4:]\n",
    "    df[NHD[1]] = df[NHD[1]].str[5::]\n",
    "    \n",
    "    # reset indices\n",
    "    df.reset_index(inplace=True)\n",
    "    df.drop('index', axis=1, inplace=True)\n",
    "    \n",
    "    return df\n",
    "\n",
    "def getDict(df):\n",
    "    return dict(zip(df[NHD[0]], df[NHD[1]]))"
   ]
  },
  {
   "cell_type": "code",
   "execution_count": 84,
   "metadata": {},
   "outputs": [],
   "source": [
    "SE_url = \"https://isin.twse.com.tw/isin/C_public.jsp?strMode=2\"\n",
    "OTC_url = \"https://isin.twse.com.tw/isin/C_public.jsp?strMode=4\"\n",
    "ES_url = \"https://isin.twse.com.tw/isin/C_public.jsp?strMode=5\"\n",
    "\n",
    "SE_range = ['1101\\u3000台泥', '9958\\u3000世紀鋼']\n",
    "OTC_range = ['1240\\u3000茂生農經', '9962\\u3000有益']\n",
    "ES_range = ['1260\\u3000富味鄉', '9957\\u3000燁聯']\n",
    "\n",
    "HD = ['有價證券代號', '有價證券名稱', '國際證券辨識號碼(ISIN Code)', '上市日', '市場別', '產業別', 'CFICode', '備註']\n",
    "\n",
    "NHD = HD[:7]\n",
    "urls = [SE_url, OTC_url, ES_url]\n",
    "ranges = [SE_range, OTC_range, ES_range]"
   ]
  },
  {
   "cell_type": "code",
   "execution_count": 99,
   "metadata": {},
   "outputs": [],
   "source": [
    "# getting the refined dataframes\n",
    "SE_df = edit(raw(urls[0], ranges[0]))\n",
    "OTC_df = edit(raw(urls[1], ranges[1]))\n",
    "ES_df = edit(raw(urls[2], ranges[2]))\n",
    "\n",
    "# collecting basic data into dictionaries\n",
    "SE_dict = getDict(SE_df)\n",
    "OTC_dict = getDict(OTC_df)\n",
    "ES_dict = getDict(ES_df)\n",
    "\n",
    "# fetching stock code of all stocks\n",
    "SE_list = list(SE_dict.keys())\n",
    "OTC_list = list(OTC_dict.keys())\n",
    "ES_list = list(ES_dict.keys())"
   ]
  }
 ],
 "metadata": {
  "kernelspec": {
   "display_name": "Python 3",
   "language": "python",
   "name": "python3"
  },
  "language_info": {
   "codemirror_mode": {
    "name": "ipython",
    "version": 3
   },
   "file_extension": ".py",
   "mimetype": "text/x-python",
   "name": "python",
   "nbconvert_exporter": "python",
   "pygments_lexer": "ipython3",
   "version": "3.8.3"
  }
 },
 "nbformat": 4,
 "nbformat_minor": 4
}
