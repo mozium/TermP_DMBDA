{
 "cells": [
  {
   "cell_type": "code",
   "execution_count": 110,
   "metadata": {},
   "outputs": [
    {
     "name": "stdout",
     "output_type": "stream",
     "text": [
      "The autotime extension is already loaded. To reload it, use:\n",
      "  %reload_ext autotime\n",
      "time: 1.1 ms\n"
     ]
    }
   ],
   "source": [
    "import requests\n",
    "from bs4 import BeautifulSoup as bs\n",
    "import pandas as pd\n",
    "import time\n",
    "import random\n",
    "\n",
    "from ipypb import irange\n",
    "%load_ext autotime"
   ]
  },
  {
   "cell_type": "code",
   "execution_count": 111,
   "metadata": {},
   "outputs": [
    {
     "name": "stdout",
     "output_type": "stream",
     "text": [
      "time: 9.17 ms\n"
     ]
    }
   ],
   "source": [
    "# reading back stored information\n",
    "SE_dict = eval(open('SE.txt', 'r').read())\n",
    "OTC_dict = eval(open('OTC.txt', 'r').read())\n",
    "ES_dict = eval(open('ES.txt', 'r').read())\n",
    "\n",
    "# fetching stock code of all stocks\n",
    "SE_list = list(SE_dict.items())\n",
    "OTC_list = list(OTC_dict.items())\n",
    "ES_list = list(ES_dict.items())\n",
    "\n",
    "# headers for crawler\n",
    "headers = {'user-agent': 'Mozilla/5.0 (Macintosh; Intel Mac OS X 10_12_3) AppleWebKit/537.36 (KHTML, like Gecko) Chrome/56.0.2924.87 Safari/537.36'}\n",
    "\n",
    "# converting elements from tuples into lists\n",
    "'''\n",
    "SE_list = [list(item) for item in SE_list]\n",
    "OTC_list = [list(item) for item in OTC_list]\n",
    "ES_list = [list(item) for item in ES_list]\n",
    "'''\n",
    "\n",
    "# defining data fetching range\n",
    "year_range = list(range(100, 110))\n",
    "year_range.reverse()"
   ]
  },
  {
   "cell_type": "code",
   "execution_count": 3,
   "metadata": {},
   "outputs": [
    {
     "name": "stdout",
     "output_type": "stream",
     "text": [
      "time: 1.66 ms\n"
     ]
    }
   ],
   "source": [
    "def year_count(code, year):\n",
    "    url = \"https://mops.twse.com.tw/mops/web/ajax_t05st01?firstin=1&TYPEK=sii&co_id=\"+ str(code) + \"&year=\" + str(year)\n",
    "    page = requests.get(url, headers=headers)\n",
    "    page.encoding = 'utf-8'\n",
    "    soup = bs(page.text, 'lxml')\n",
    "\n",
    "    try:\n",
    "        tb = soup.select('table')[1]\n",
    "        df = pd.read_html(tb.prettify('utf-8'), encoding= 'utf-8')\n",
    "        \n",
    "        # getting the statistics\n",
    "        number = df[0].shape[0]\n",
    "        \n",
    "        # storing basic information\n",
    "        df[0].drop('Unnamed: 5', axis=1, inplace=True)\n",
    "        df[0].to_csv(\"../databases/basic_info/\"+str(code)+'_'+str(name)+'_'+str(year)+'_'+str(number)+'.csv')\n",
    "    \n",
    "    except:\n",
    "        number = 0\n",
    "    \n",
    "    return number"
   ]
  },
  {
   "cell_type": "code",
   "execution_count": 61,
   "metadata": {},
   "outputs": [
    {
     "name": "stdout",
     "output_type": "stream",
     "text": [
      "time: 3.24 ms\n"
     ]
    }
   ],
   "source": [
    "df_cols = ['公司代號', '公司名稱', '年份', '數量']\n",
    "df = pd.DataFrame(columns=df_cols)"
   ]
  },
  {
   "cell_type": "code",
   "execution_count": null,
   "metadata": {},
   "outputs": [
    {
     "name": "stdout",
     "output_type": "stream",
     "text": [
      "132_109 | 132_108 | 132_107 | 132_106 | 132_105 | 132_104 | 132_103 | 132_102 | 132_101 | 132_100 | 'info_synop.csv' updated\n",
      "133_109 | 133_108 | 133_107 | 133_106 | 133_105 | 133_104 | 133_103 | 133_102 | 133_101 | 133_100 | 'info_synop.csv' updated\n",
      "134_109 | 134_108 | 134_107 | 134_106 | 134_105 | 134_104 | 134_103 | 134_102 | 134_101 | 134_100 | 'info_synop.csv' updated\n",
      "135_109 | 135_108 | 135_107 | "
     ]
    }
   ],
   "source": [
    "# for faster trimming\n",
    "sort_tracker = 0\n",
    "\n",
    "for i in range(132, len(SE_list)):\n",
    "    code = SE_list[i][0]\n",
    "    name = SE_list[i][1]\n",
    "    \n",
    "    for year in year_range:\n",
    "        number = year_count(code, year)\n",
    "        \n",
    "        # creating the new row\n",
    "        new_row = {df_cols[0]: code, df_cols[1]: name, df_cols[2]: year, df_cols[3]: number}\n",
    "\n",
    "        # append row to the dataframe\n",
    "        df = df.append(new_row, ignore_index=True)\n",
    "        \n",
    "        # for faster trimming\n",
    "        sort_tracker += 1\n",
    "\n",
    "        # defense I\n",
    "        time.sleep(random.randint(5, 10))\n",
    "\n",
    "        # tracker\n",
    "        print(str(i)+'_'+str(year), end = ' | ')        \n",
    "        \n",
    "    # for faster trimming\n",
    "    sort_tracker = 0\n",
    "\n",
    "    # defense II\n",
    "    time.sleep(random.randint(11, 22))\n",
    "    \n",
    "    # update current statistics\n",
    "    df.to_csv(\"../databases/\"+'info_synop.csv')\n",
    "    print(\"'info_synop.csv' updated\")\n",
    "    \n",
    "    # defense III\n",
    "    if i % 5 == 0:\n",
    "        time.sleep(random.randint(33,88))"
   ]
  },
  {
   "cell_type": "code",
   "execution_count": 114,
   "metadata": {},
   "outputs": [
    {
     "name": "stdout",
     "output_type": "stream",
     "text": [
      "time: 1.94 ms\n"
     ]
    }
   ],
   "source": [
    "sort_start = df.shape[0] - sort_tracker\n",
    "sort_end = df.shape[0]\n",
    "\n",
    "df.drop(list(range(sort_start, sort_end)), inplace=True)"
   ]
  },
  {
   "cell_type": "code",
   "execution_count": 94,
   "metadata": {},
   "outputs": [
    {
     "data": {
      "text/plain": [
       "(6, 1246)"
      ]
     },
     "execution_count": 94,
     "metadata": {},
     "output_type": "execute_result"
    },
    {
     "name": "stdout",
     "output_type": "stream",
     "text": [
      "time: 1.75 ms\n"
     ]
    }
   ],
   "source": [
    "sort_tracker, df.shape[0]"
   ]
  },
  {
   "cell_type": "code",
   "execution_count": 84,
   "metadata": {},
   "outputs": [
    {
     "data": {
      "text/plain": [
       "24.331"
      ]
     },
     "execution_count": 84,
     "metadata": {},
     "output_type": "execute_result"
    },
    {
     "name": "stdout",
     "output_type": "stream",
     "text": [
      "time: 2.15 ms\n"
     ]
    }
   ],
   "source": [
    "df['數量'].sum()/df.shape[0]"
   ]
  },
  {
   "cell_type": "code",
   "execution_count": 116,
   "metadata": {},
   "outputs": [
    {
     "data": {
      "text/html": [
       "<div>\n",
       "<style scoped>\n",
       "    .dataframe tbody tr th:only-of-type {\n",
       "        vertical-align: middle;\n",
       "    }\n",
       "\n",
       "    .dataframe tbody tr th {\n",
       "        vertical-align: top;\n",
       "    }\n",
       "\n",
       "    .dataframe thead th {\n",
       "        text-align: right;\n",
       "    }\n",
       "</style>\n",
       "<table border=\"1\" class=\"dataframe\">\n",
       "  <thead>\n",
       "    <tr style=\"text-align: right;\">\n",
       "      <th></th>\n",
       "      <th>公司代號</th>\n",
       "      <th>公司名稱</th>\n",
       "      <th>年份</th>\n",
       "      <th>數量</th>\n",
       "    </tr>\n",
       "  </thead>\n",
       "  <tbody>\n",
       "    <tr>\n",
       "      <th>1305</th>\n",
       "      <td>1558</td>\n",
       "      <td>伸興</td>\n",
       "      <td>104</td>\n",
       "      <td>33</td>\n",
       "    </tr>\n",
       "    <tr>\n",
       "      <th>1306</th>\n",
       "      <td>1558</td>\n",
       "      <td>伸興</td>\n",
       "      <td>103</td>\n",
       "      <td>23</td>\n",
       "    </tr>\n",
       "    <tr>\n",
       "      <th>1307</th>\n",
       "      <td>1558</td>\n",
       "      <td>伸興</td>\n",
       "      <td>102</td>\n",
       "      <td>29</td>\n",
       "    </tr>\n",
       "    <tr>\n",
       "      <th>1308</th>\n",
       "      <td>1558</td>\n",
       "      <td>伸興</td>\n",
       "      <td>101</td>\n",
       "      <td>27</td>\n",
       "    </tr>\n",
       "    <tr>\n",
       "      <th>1309</th>\n",
       "      <td>1558</td>\n",
       "      <td>伸興</td>\n",
       "      <td>100</td>\n",
       "      <td>32</td>\n",
       "    </tr>\n",
       "    <tr>\n",
       "      <th>1310</th>\n",
       "      <td>1560</td>\n",
       "      <td>中砂</td>\n",
       "      <td>109</td>\n",
       "      <td>19</td>\n",
       "    </tr>\n",
       "    <tr>\n",
       "      <th>1311</th>\n",
       "      <td>1560</td>\n",
       "      <td>中砂</td>\n",
       "      <td>108</td>\n",
       "      <td>15</td>\n",
       "    </tr>\n",
       "    <tr>\n",
       "      <th>1312</th>\n",
       "      <td>1560</td>\n",
       "      <td>中砂</td>\n",
       "      <td>107</td>\n",
       "      <td>22</td>\n",
       "    </tr>\n",
       "    <tr>\n",
       "      <th>1313</th>\n",
       "      <td>1560</td>\n",
       "      <td>中砂</td>\n",
       "      <td>106</td>\n",
       "      <td>29</td>\n",
       "    </tr>\n",
       "    <tr>\n",
       "      <th>1314</th>\n",
       "      <td>1560</td>\n",
       "      <td>中砂</td>\n",
       "      <td>105</td>\n",
       "      <td>17</td>\n",
       "    </tr>\n",
       "    <tr>\n",
       "      <th>1315</th>\n",
       "      <td>1560</td>\n",
       "      <td>中砂</td>\n",
       "      <td>104</td>\n",
       "      <td>14</td>\n",
       "    </tr>\n",
       "    <tr>\n",
       "      <th>1316</th>\n",
       "      <td>1560</td>\n",
       "      <td>中砂</td>\n",
       "      <td>103</td>\n",
       "      <td>26</td>\n",
       "    </tr>\n",
       "    <tr>\n",
       "      <th>1317</th>\n",
       "      <td>1560</td>\n",
       "      <td>中砂</td>\n",
       "      <td>102</td>\n",
       "      <td>16</td>\n",
       "    </tr>\n",
       "    <tr>\n",
       "      <th>1318</th>\n",
       "      <td>1560</td>\n",
       "      <td>中砂</td>\n",
       "      <td>101</td>\n",
       "      <td>10</td>\n",
       "    </tr>\n",
       "    <tr>\n",
       "      <th>1319</th>\n",
       "      <td>1560</td>\n",
       "      <td>中砂</td>\n",
       "      <td>100</td>\n",
       "      <td>16</td>\n",
       "    </tr>\n",
       "  </tbody>\n",
       "</table>\n",
       "</div>"
      ],
      "text/plain": [
       "      公司代號 公司名稱   年份  數量\n",
       "1305  1558   伸興  104  33\n",
       "1306  1558   伸興  103  23\n",
       "1307  1558   伸興  102  29\n",
       "1308  1558   伸興  101  27\n",
       "1309  1558   伸興  100  32\n",
       "1310  1560   中砂  109  19\n",
       "1311  1560   中砂  108  15\n",
       "1312  1560   中砂  107  22\n",
       "1313  1560   中砂  106  29\n",
       "1314  1560   中砂  105  17\n",
       "1315  1560   中砂  104  14\n",
       "1316  1560   中砂  103  26\n",
       "1317  1560   中砂  102  16\n",
       "1318  1560   中砂  101  10\n",
       "1319  1560   中砂  100  16"
      ]
     },
     "execution_count": 116,
     "metadata": {},
     "output_type": "execute_result"
    },
    {
     "name": "stdout",
     "output_type": "stream",
     "text": [
      "time: 8.23 ms\n"
     ]
    }
   ],
   "source": [
    "df.tail(15)"
   ]
  },
  {
   "cell_type": "code",
   "execution_count": 118,
   "metadata": {},
   "outputs": [
    {
     "data": {
      "text/plain": [
       "50"
      ]
     },
     "execution_count": 118,
     "metadata": {},
     "output_type": "execute_result"
    },
    {
     "name": "stdout",
     "output_type": "stream",
     "text": [
      "time: 2.39 ms\n"
     ]
    }
   ],
   "source": [
    "df[df['數量']==0].shape[0]"
   ]
  },
  {
   "cell_type": "code",
   "execution_count": null,
   "metadata": {},
   "outputs": [],
   "source": []
  }
 ],
 "metadata": {
  "kernelspec": {
   "display_name": "Python 3",
   "language": "python",
   "name": "python3"
  },
  "language_info": {
   "codemirror_mode": {
    "name": "ipython",
    "version": 3
   },
   "file_extension": ".py",
   "mimetype": "text/x-python",
   "name": "python",
   "nbconvert_exporter": "python",
   "pygments_lexer": "ipython3",
   "version": "3.8.3"
  }
 },
 "nbformat": 4,
 "nbformat_minor": 4
}
