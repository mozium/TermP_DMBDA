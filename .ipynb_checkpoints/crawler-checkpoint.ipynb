{
 "cells": [
  {
   "cell_type": "code",
   "execution_count": 1,
   "metadata": {},
   "outputs": [],
   "source": [
    "import sys\n",
    "import time\n",
    "import random\n",
    "import pandas as pd\n",
    "import requests\n",
    "from bs4 import BeautifulSoup as bs\n",
    "\n",
    "from ipypb import irange\n",
    "%load_ext autotime"
   ]
  },
  {
   "cell_type": "code",
   "execution_count": null,
   "metadata": {},
   "outputs": [
    {
     "data": {
      "text/html": [
       "<div><span class=\"Text-label\" style=\"display:inline-block; overflow:hidden; white-space:nowrap; text-overflow:ellipsis; min-width:0; max-width:15ex; vertical-align:middle; text-align:right\"></span>\n",
       "<progress style=\"width:60ex\" max=\"146\" value=\"146\" class=\"Progress-main\"/></progress>\n",
       "<span class=\"Progress-label\"><strong>100%</strong></span>\n",
       "<span class=\"Iteration-label\">146/146</span>\n",
       "<span class=\"Time-label\">[07:37<00:37, 3.13s/it]</span></div>"
      ],
      "text/plain": [
       "\u001b[A\u001b[2K\r",
       " [████████████████████████████████████████████████████████████] 146/146 [07:37<00:37, 3.13s/it]"
      ]
     },
     "metadata": {},
     "output_type": "display_data"
    },
    {
     "name": "stdout",
     "output_type": "stream",
     "text": [
      ".........................,....................,....................,....................,........................................,....................,.100 | "
     ]
    },
    {
     "data": {
      "text/html": [
       "<div><span class=\"Text-label\" style=\"display:inline-block; overflow:hidden; white-space:nowrap; text-overflow:ellipsis; min-width:0; max-width:15ex; vertical-align:middle; text-align:right\"></span>\n",
       "<progress style=\"width:60ex\" max=\"135\" value=\"135\" class=\"Progress-main\"/></progress>\n",
       "<span class=\"Progress-label\"><strong>100%</strong></span>\n",
       "<span class=\"Iteration-label\">135/135</span>\n",
       "<span class=\"Time-label\">[06:54<00:13, 3.07s/it]</span></div>"
      ],
      "text/plain": [
       "\u001b[A\u001b[2K\r",
       " [████████████████████████████████████████████████████████████] 135/135 [06:54<00:13, 3.07s/it]"
      ]
     },
     "metadata": {},
     "output_type": "display_data"
    },
    {
     "name": "stdout",
     "output_type": "stream",
     "text": [
      ".........................,....................,....................,....................,....................,....................,..........101 | "
     ]
    },
    {
     "data": {
      "text/html": [
       "<div><span class=\"Text-label\" style=\"display:inline-block; overflow:hidden; white-space:nowrap; text-overflow:ellipsis; min-width:0; max-width:15ex; vertical-align:middle; text-align:right\"></span>\n",
       "<progress style=\"width:60ex\" max=\"121\" value=\"54\" class=\"Progress-main\"/></progress>\n",
       "<span class=\"Progress-label\"><strong>45%</strong></span>\n",
       "<span class=\"Iteration-label\">54/121</span>\n",
       "<span class=\"Time-label\">[02:24<00:00, 2.67s/it]</span></div>"
      ],
      "text/plain": [
       "\u001b[A\u001b[2K\r",
       " [██████████████████████████##################################] 54/121 [02:24<00:00, 2.67s/it]"
      ]
     },
     "metadata": {},
     "output_type": "display_data"
    },
    {
     "name": "stdout",
     "output_type": "stream",
     "text": [
      "...................,....................,..............."
     ]
    }
   ],
   "source": [
    "# Loading the stock codes\n",
    "TW50 = eval(open('./databases/TW50.txt', 'r').read())\n",
    "year_range = ['106', '107', '108', '109']\n",
    "\n",
    "# Initialization\n",
    "data_cols = ['發言日期', '發言時間', '發言人', '發言人職稱', '發言電話', '主旨', '符合條款', '事實發生日', '說明']\n",
    "df = pd.DataFrame(columns = data_cols)\n",
    "\n",
    "query_list = []\n",
    "for code_i in range(len(TW50)):\n",
    "    stock_code = TW50[code_i]\n",
    "        \n",
    "    for year_i in range(len(year_range)):\n",
    "        year = year_range[year_i]\n",
    "        entry = (stock_code, year)\n",
    "        query_list.append(entry)\n",
    "\n",
    "# Main function\n",
    "for i in range(100, len(query_list)):\n",
    "    stock_code = query_list[i][0]\n",
    "    year = query_list[i][1]\n",
    "\n",
    "    # Fetching the yearly table of each company\n",
    "    page_url = \"https://mops.twse.com.tw/mops/web/ajax_t05st01?firstin=1&TYPEK=all&co_id=\" + str(stock_code)+\"&year=\"+str(year) + \"&step=1&off=1\"\n",
    "    page = requests.get(page_url)\n",
    "    page.encoding = 'utf-8'\n",
    "    soup = bs(page.text, 'lxml')\n",
    "\n",
    "    # Fetching the number of entries for the recursive function\n",
    "    number_of_entries = len(soup.select('table')[1].select('tr')) - 1 # The total number of entries\n",
    "\n",
    "    # Initializing page_data\n",
    "    page_data = []\n",
    "\n",
    "    for j in irange(1, number_of_entries + 1):\n",
    "        attr_td = soup.select('table')[1].select('tr')[j].select('td')[5]\n",
    "\n",
    "        # 0: stock code\n",
    "        # 1: company name\n",
    "        # 2: entry date\n",
    "        # 3: entry time\n",
    "        # 4: sypnosis\n",
    "        # 5: attributes\n",
    "\n",
    "        attrs = attr_td.select('input')[0].get('onclick')\n",
    "        attr_list = attrs.split(';')\n",
    "\n",
    "        #attr_arr = attr.split(\";\")\n",
    "        #attr_arr[0].split('=')[1][1:-1]\n",
    "\n",
    "        seq_no = attr_list[1].split('=')[1][1:-1]\n",
    "        spoke_time = attr_list[2].split('=')[1][1:-1]\n",
    "        spoke_date = attr_list[3].split('=')[1][1:-1]\n",
    "        TYPEK = attr_list[5].split('=')[1][1:-1]\n",
    "\n",
    "        # Retrieving attributes detail of each entry \n",
    "        # 1: seq_no\n",
    "        # 2: spoke_time\n",
    "        # 3: spoke_date\n",
    "\n",
    "        head = \"https://mops.twse.com.tw/mops/web/ajax_t05st01?firstin=true\"\n",
    "        tail = \"&step=2&off=1\"\n",
    "        api = head + \"&TYPEK=\"+str(TYPEK)+\"&year=\"+str(year)+\"&co_id=\"+str(stock_code)+\"&spoke_date=\"+str(spoke_date)+\"&spoke_time=\"+str(spoke_time)+\"&seq_no=\"+str(seq_no) + tail\n",
    "\n",
    "        # Fetching entry details\n",
    "        entry_page = requests.get(api)\n",
    "        entry_page.encoding = 'utf-8'\n",
    "        entry_soup = bs(entry_page.text, 'lxml')\n",
    "\n",
    "        # Selecting the table of information\n",
    "        try:\n",
    "            table = entry_soup.select('table')[2]\n",
    "\n",
    "        except:\n",
    "            print(',', end = '')\n",
    "            time.sleep(random.randint(33, 44))\n",
    "\n",
    "            try:\n",
    "                entry_page = requests.get(api)\n",
    "                entry_page.encoding = 'utf-8'\n",
    "                entry_soup = bs(entry_page.text, 'lxml')\n",
    "                table = entry_soup.select('table')[2]\n",
    "\n",
    "            except:\n",
    "                print(';', end = '')\n",
    "                time.sleep(random.randint(55, 66))\n",
    "                \n",
    "                try:\n",
    "                    entry_page = requests.get(api)\n",
    "                    entry_page.encoding = 'utf-8'\n",
    "                    entry_soup = bs(entry_page.text, 'lxml')\n",
    "                    table = entry_soup.select('table')[2]\n",
    "                    \n",
    "                except:\n",
    "                    print('break')\n",
    "\n",
    "        finally:\n",
    "            c0 = table.select('td')[3].getText()\n",
    "            c1 = table.select('td')[5].getText()\n",
    "            c2 = table.select('td')[7].getText()\n",
    "            c3 = table.select('td')[9].getText()\n",
    "            c4 = table.select('td')[11].getText()\n",
    "            c5 = table.select('td')[13].getText()\n",
    "            c6 = table.select('td')[15].getText()\n",
    "            c7 = table.select('td')[17].getText()\n",
    "            c8 = table.select('td')[19].getText()\n",
    "\n",
    "            # 3: spoke_date\n",
    "            # 5: spoke_time\n",
    "            # 7: announcer\n",
    "            # 9: announcer_title\n",
    "            # 11: announcer_phone\n",
    "            # 13: title\n",
    "            # 15: corresponding_clause\n",
    "            # 17: occurance_date\n",
    "            # 19: description\n",
    "\n",
    "            cell = [c0, c1, c2, c3, c4, c5, c6, c7, c8]\n",
    "            page_data.append(cell)\n",
    "            \n",
    "            # Defense mechanism            \n",
    "            if j % 10 == 5:\n",
    "                time.sleep(random.randint(10, 15))\n",
    "                \n",
    "            # For visual tracking\n",
    "            print('.', end = '')\n",
    "\n",
    "    var_df = pd.DataFrame(columns=data_cols, data=page_data)\n",
    "    var_df.to_csv(\"./databases/detailed_info/\" + str(stock_code) + '_' + year + \".csv\")\n",
    "\n",
    "    # For visual tracking\n",
    "    print(str(i), end = ' | ')\n",
    "    \n",
    "    # Defense\n",
    "    time.sleep(random.randint(20, 50))"
   ]
  },
  {
   "cell_type": "code",
   "execution_count": null,
   "metadata": {},
   "outputs": [],
   "source": [
    "df = pd.DataFrame(columns = data_cols)\n",
    "\n",
    "for i in range(len(query_list)):\n",
    "    code = query_list[i][0]\n",
    "    year = query_list[i][1]\n",
    "    var_df = pd.read_csv(\"./databases/detailed_info/\" + str(code) + '_' + str(year) + \".csv\")\n",
    "    df = pd.concat([df, var_df], ignore_index = True)\n",
    "    \n",
    "df.to_csv(\"./databases/detailed_info/raw.csv\")"
   ]
  }
 ],
 "metadata": {
  "kernelspec": {
   "display_name": "Python 3",
   "language": "python",
   "name": "python3"
  },
  "language_info": {
   "codemirror_mode": {
    "name": "ipython",
    "version": 3
   },
   "file_extension": ".py",
   "mimetype": "text/x-python",
   "name": "python",
   "nbconvert_exporter": "python",
   "pygments_lexer": "ipython3",
   "version": "3.8.3"
  }
 },
 "nbformat": 4,
 "nbformat_minor": 4
}
